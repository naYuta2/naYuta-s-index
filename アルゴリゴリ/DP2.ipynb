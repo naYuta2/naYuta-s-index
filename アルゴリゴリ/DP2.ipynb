{
 "cells": [
  {
   "cell_type": "markdown",
   "id": "daa46e51",
   "metadata": {},
   "source": [
    "## 問題\n",
    "$N$個の整数$a_0, a_1, ...,a_{N-1}$を$M$個の連続する区間に分けたいとします。各区間の平均値の総和として考えられる最大値を$O(N^2M)$で求めるアルゴリズムを設計してください。"
   ]
  },
  {
   "cell_type": "code",
   "execution_count": 20,
   "id": "8ae271b3",
   "metadata": {},
   "outputs": [
    {
     "name": "stdout",
     "output_type": "stream",
     "text": [
      "4.5\n"
     ]
    }
   ],
   "source": [
    "N, M = map(int, input().split())\n",
    "a = list(map(int, input().split()))\n",
    "\n",
    "dp = [[float('-inf')] * (M+1) for _ in range(N+1)]\n",
    "dp[0][0] = 0\n",
    "s = [0] * (N+1)\n",
    "for i in range(N):\n",
    "    s[i+1] = s[i] + a[i]\n",
    "\n",
    "for i in range(1, N+1):\n",
    "    for k in range(1, M+1):\n",
    "        for j in range(k-1, i):\n",
    "            avg = (s[i] - s[j]) / (i - j)\n",
    "            dp[i][k] = max(dp[i][k], dp[j][k-1] + avg)\n",
    "\n",
    "print(dp[N][M])"
   ]
  }
 ],
 "metadata": {
  "kernelspec": {
   "display_name": "3.9.6",
   "language": "python",
   "name": "python3"
  },
  "language_info": {
   "codemirror_mode": {
    "name": "ipython",
    "version": 3
   },
   "file_extension": ".py",
   "mimetype": "text/x-python",
   "name": "python",
   "nbconvert_exporter": "python",
   "pygments_lexer": "ipython3",
   "version": "3.9.6"
  }
 },
 "nbformat": 4,
 "nbformat_minor": 5
}
